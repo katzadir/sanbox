{
 "cells": [
  {
   "cell_type": "markdown",
   "metadata": {},
   "source": [
    "### Let's try a simple classifier based on the MNIST dataset using tensorflow\n",
    "\n",
    "#### this notebook is partially based on https://www.tensorflow.org/tutorials/layers"
   ]
  },
  {
   "cell_type": "code",
   "execution_count": 13,
   "metadata": {},
   "outputs": [],
   "source": [
    "import numpy as np #package for scientific computing\n",
    "import tensorflow as tf # library for Machine Intelligence\n",
    "from mnist import MNIST #Simple MNIST data parser written in python\n",
    "import requests #is an Apache2 Licensed HTTP library\n",
    "import matplotlib.pyplot as plt #Python 2D plotting library\n",
    "%matplotlib inline"
   ]
  },
  {
   "cell_type": "code",
   "execution_count": 2,
   "metadata": {},
   "outputs": [],
   "source": [
    "#Let's make a room for the dataset we are going to use\n",
    "dataset_directory = './samples'\n",
    "if not os.path.exists(dataset_directory):\n",
    "    os.makedirs(dataset_directory)"
   ]
  },
  {
   "cell_type": "code",
   "execution_count": 3,
   "metadata": {},
   "outputs": [
    {
     "name": "stdout",
     "output_type": "stream",
     "text": [
      "Downloaded file ./samples/train-labels-idx1-ubyte.gz\n",
      "Downloaded file ./samples/t10k-labels-idx1-ubyte.gz\n",
      "Downloaded file ./samples/train-images-idx3-ubyte.gz\n",
      "Downloaded file ./samples/t10k-images-idx3-ubyte.gz\n"
     ]
    }
   ],
   "source": [
    "#let's download the MNIST dataset\n",
    "mnist_base_url = 'http://yann.lecun.com/exdb/mnist/'\n",
    "dataset_suffix = {'train_fv': 'train-images-idx3-ubyte.gz',\n",
    "                  'train_labels':'train-labels-idx1-ubyte.gz',\n",
    "                  'test_fv':'t10k-images-idx3-ubyte.gz',\n",
    "                  'test_labels':'t10k-labels-idx1-ubyte.gz'}\n",
    "\n",
    "for dataset_name, dataset_file in dataset_suffix.items():\n",
    "    r = requests.get(mnist_base_url+dataset_file, allow_redirects=True)\n",
    "    open(dataset_directory+'/'+dataset_file, 'wb').write(r.content)\n",
    "    print(\"Downloaded file {}\".format((dataset_directory+'/'+dataset_file)))"
   ]
  },
  {
   "cell_type": "code",
   "execution_count": 4,
   "metadata": {},
   "outputs": [],
   "source": [
    "# use mnist package to parse the mnist files\n",
    "mndata = MNIST(dataset_directory)\n",
    "mndata.gz = True\n",
    "train_images, train_labels = mndata.load_training()\n",
    "test_images, test_labels = mndata.load_test()"
   ]
  },
  {
   "cell_type": "code",
   "execution_count": 27,
   "metadata": {},
   "outputs": [
    {
     "data": {
      "text/plain": [
       "Text(0.5,1,'Axis [1,1]')"
      ]
     },
     "execution_count": 27,
     "metadata": {},
     "output_type": "execute_result"
    },
    {
     "data": {
      "image/png": "[encoded data removed]",
      "text/plain": [
       "<matplotlib.figure.Figure at 0x7f6a5c82ca58>"
      ]
     },
     "metadata": {},
     "output_type": "display_data"
    }
   ],
   "source": [
    "# Example for several images from the train set\n",
    "f, axarr = plt.subplots(2, 2)\n",
    "axarr[0, 0].imshow(np.array(images[1], dtype='uint8').reshape((28,28)), cmap='gray')\n",
    "axarr[0, 0].set_title('Axis [0,0]')\n",
    "axarr[0, 1].imshow(np.array(images[2], dtype='uint8').reshape((28,28)), cmap='gray')\n",
    "axarr[0, 1].set_title('Axis [0,1]')\n",
    "axarr[1, 0].imshow(np.array(images[3], dtype='uint8').reshape((28,28)), cmap='gray')\n",
    "axarr[1, 0].set_title('Axis [1,0]')\n",
    "axarr[1, 1].imshow(np.array(images[4], dtype='uint8').reshape((28,28)), cmap='gray')\n",
    "axarr[1, 1].set_title('Axis [1,1]')"
   ]
  }
 ],
 "metadata": {
  "kernelspec": {
   "display_name": "Python 3",
   "language": "python",
   "name": "python3"
  },
  "language_info": {
   "codemirror_mode": {
    "name": "ipython",
    "version": 3
   },
   "file_extension": ".py",
   "mimetype": "text/x-python",
   "name": "python",
   "nbconvert_exporter": "python",
   "pygments_lexer": "ipython3",
   "version": "3.5.4"
  },
  "varInspector": {
   "cols": {
    "lenName": 16,
    "lenType": 16,
    "lenVar": 40
   },
   "kernels_config": {
    "python": {
     "delete_cmd_postfix": "",
     "delete_cmd_prefix": "del ",
     "library": "var_list.py",
     "varRefreshCmd": "print(var_dic_list())"
    },
    "r": {
     "delete_cmd_postfix": ") ",
     "delete_cmd_prefix": "rm(",
     "library": "var_list.r",
     "varRefreshCmd": "cat(var_dic_list()) "
    }
   },
   "types_to_exclude": [
    "module",
    "function",
    "builtin_function_or_method",
    "instance",
    "_Feature"
   ],
   "window_display": false
  }
 },
 "nbformat": 4,
 "nbformat_minor": 2
}
